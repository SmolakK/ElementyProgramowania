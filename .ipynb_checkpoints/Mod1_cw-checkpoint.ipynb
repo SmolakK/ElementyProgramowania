{
 "cells": [
  {
   "cell_type": "markdown",
   "metadata": {
    "id": "wnKpNgX3L-Wa",
    "nbpresent": {
     "id": "40f70c9c-09df-4e99-b5fd-a7613178fdb7"
    },
    "slideshow": {
     "slide_type": "-"
    }
   },
   "source": [
    "<img src=\"./src/header.png\">"
   ]
  },
  {
   "cell_type": "markdown",
   "metadata": {},
   "source": [
    "\n",
    "----\n",
    "\n",
    "# Moduł 1 - Ćwiczenia"
   ]
  },
  {
   "cell_type": "markdown",
   "metadata": {
    "id": "lGP2n1fFL-Wk",
    "nbpresent": {
     "id": "fd287f8f-7775-433b-997a-d178455a3add"
    }
   },
   "source": [
    "## Co to jest PowerShell i dlaczego jest przydatny?\n",
    "\n",
    "---\n",
    "\n",
    "Windows PowerShell to interfejs wiersza poleceń dla komputerów z systemem Windows. Interfejs wiersza poleceń (CLI) to program, który nakazuje komputerowi wykonanie zadań za pomocą wpisywanych poleceń, a nie poprzez klikanie obrazów na pulpicie, jak ma to miejsce w graficznym interfejsie użytkownika (GUI ) ."
   ]
  },
  {
   "cell_type": "code",
   "execution_count": null,
   "metadata": {},
   "outputs": [],
   "source": []
  }
 ],
 "metadata": {
  "anaconda-cloud": {},
  "colab": {
   "provenance": []
  },
  "kernelspec": {
   "display_name": "Python 3 (ipykernel)",
   "language": "python",
   "name": "python3"
  },
  "language_info": {
   "codemirror_mode": {
    "name": "ipython",
    "version": 3
   },
   "file_extension": ".py",
   "mimetype": "text/x-python",
   "name": "python",
   "nbconvert_exporter": "python",
   "pygments_lexer": "ipython3",
   "version": "3.11.3"
  },
  "rise": {
   "scroll": true
  }
 },
 "nbformat": 4,
 "nbformat_minor": 1
}
